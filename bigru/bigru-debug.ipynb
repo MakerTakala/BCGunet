{
 "cells": [
  {
   "cell_type": "markdown",
   "id": "62e7e36e",
   "metadata": {},
   "source": [
    "Requirements: Pytorch, mat73, numpy\n",
    "\n",
    "```pip install mat73```\n",
    "\n",
    "相關論文： https://ieeexplore.ieee.org/document/9124646"
   ]
  },
  {
   "cell_type": "code",
   "execution_count": 1,
   "id": "2962af4f",
   "metadata": {},
   "outputs": [],
   "source": [
    "from os.path import *\n",
    "import numpy as np\n",
    "import random\n",
    "import torch\n",
    "import torch.nn as nn\n",
    "import time\n",
    "import sys\n",
    "import mat73\n",
    "import matplotlib.pyplot as plt\n",
    "from bigru import BiGRU"
   ]
  },
  {
   "cell_type": "code",
   "execution_count": 2,
   "id": "1f21a6a9",
   "metadata": {},
   "outputs": [],
   "source": [
    "from scipy.signal import butter, sosfilt, sosfreqz\n",
    "\n",
    "def butter_bandpass(lowcut, highcut, fs, order=5):\n",
    "        nyq = 0.5 * fs\n",
    "        low = lowcut / nyq\n",
    "        high = highcut / nyq\n",
    "        sos = butter(order, [low, high], analog=False, btype='band', output='sos')\n",
    "        return sos\n",
    "\n",
    "def butter_bandpass_filter(data, lowcut, highcut, fs, order=5):\n",
    "        sos = butter_bandpass(lowcut, highcut, fs, order=order)\n",
    "        y = sosfilt(sos, data)\n",
    "        return y"
   ]
  },
  {
   "cell_type": "code",
   "execution_count": 3,
   "id": "71b4e84a",
   "metadata": {},
   "outputs": [
    {
     "ename": "AssertionError",
     "evalue": "../dataset/noscan/170320_CLY/analysis/EyeClose1_noscan.mat does not exist",
     "output_type": "error",
     "traceback": [
      "\u001b[0;31m---------------------------------------------------------------------------\u001b[0m",
      "\u001b[0;31mAssertionError\u001b[0m                            Traceback (most recent call last)",
      "Cell \u001b[0;32mIn[3], line 10\u001b[0m\n\u001b[1;32m      6\u001b[0m     ecg \u001b[39m=\u001b[39m (ecg \u001b[39m-\u001b[39m min1)\u001b[39m/\u001b[39m(max1\u001b[39m-\u001b[39mmin1)\n\u001b[1;32m      7\u001b[0m     \u001b[39mreturn\u001b[39;00m ecg\n\u001b[0;32m---> 10\u001b[0m data \u001b[39m=\u001b[39m mat73\u001b[39m.\u001b[39;49mloadmat(f)\n\u001b[1;32m     11\u001b[0m eeg_filtered \u001b[39m=\u001b[39m data[\u001b[39m'\u001b[39m\u001b[39mEEG_before_bcg\u001b[39m\u001b[39m'\u001b[39m] \u001b[39m*\u001b[39m \u001b[39m0\u001b[39m\n\u001b[1;32m     12\u001b[0m t \u001b[39m=\u001b[39m time\u001b[39m.\u001b[39mtime()\n",
      "File \u001b[0;32m~/Documents/GitHub/BCGunet/venv/lib/python3.10/site-packages/mat73/core.py:312\u001b[0m, in \u001b[0;36mloadmat\u001b[0;34m(filename, use_attrdict, only_include, verbose)\u001b[0m\n\u001b[1;32m    293\u001b[0m \u001b[39mdef\u001b[39;00m \u001b[39mloadmat\u001b[39m(filename, use_attrdict\u001b[39m=\u001b[39m\u001b[39mFalse\u001b[39;00m, only_include\u001b[39m=\u001b[39m\u001b[39mNone\u001b[39;00m, verbose\u001b[39m=\u001b[39m\u001b[39mTrue\u001b[39;00m):\n\u001b[1;32m    294\u001b[0m \u001b[39m    \u001b[39m\u001b[39m\"\"\"\u001b[39;00m\n\u001b[1;32m    295\u001b[0m \u001b[39m    Loads a MATLAB 7.3 .mat file, which is actually a\u001b[39;00m\n\u001b[1;32m    296\u001b[0m \u001b[39m    HDF5 file with some custom matlab annotations inside\u001b[39;00m\n\u001b[0;32m   (...)\u001b[0m\n\u001b[1;32m    310\u001b[0m \u001b[39m    :returns: A dictionary with the matlab variables loaded\u001b[39;00m\n\u001b[1;32m    311\u001b[0m \u001b[39m    \"\"\"\u001b[39;00m\n\u001b[0;32m--> 312\u001b[0m     \u001b[39massert\u001b[39;00m os\u001b[39m.\u001b[39mpath\u001b[39m.\u001b[39misfile(filename), \u001b[39m'\u001b[39m\u001b[39m{}\u001b[39;00m\u001b[39m does not exist\u001b[39m\u001b[39m'\u001b[39m\u001b[39m.\u001b[39mformat(filename)\n\u001b[1;32m    313\u001b[0m     decoder \u001b[39m=\u001b[39m HDF5Decoder(verbose\u001b[39m=\u001b[39mverbose, use_attrdict\u001b[39m=\u001b[39muse_attrdict,\n\u001b[1;32m    314\u001b[0m                           only_include\u001b[39m=\u001b[39monly_include)\n\u001b[1;32m    316\u001b[0m     ext \u001b[39m=\u001b[39m os\u001b[39m.\u001b[39mpath\u001b[39m.\u001b[39msplitext(filename)[\u001b[39m1\u001b[39m]\u001b[39m.\u001b[39mlower()\n",
      "\u001b[0;31mAssertionError\u001b[0m: ../dataset/noscan/170320_CLY/analysis/EyeClose1_noscan.mat does not exist"
     ]
    }
   ],
   "source": [
    "f = r'../dataset/noscan/170320_CLY/analysis/EyeClose1_noscan.mat'\n",
    "def norm_ecg(ecg):\n",
    "    min1, max1 = np.percentile(ecg, [1, 99])\n",
    "    ecg[ecg>max1] = max1\n",
    "    ecg[ecg<min1] = min1\n",
    "    ecg = (ecg - min1)/(max1-min1)\n",
    "    return ecg\n",
    "\n",
    "\n",
    "data = mat73.loadmat(f)\n",
    "eeg_filtered = data['EEG_before_bcg'] * 0\n",
    "t = time.time()\n",
    "for ii in range(31):\n",
    "    eeg_filtered[ii, ...] = butter_bandpass_filter(data['EEG_before_bcg'][ii,:], 1, 40, 5000)\n",
    "\n",
    "torch.cuda.empty_cache()\n",
    "device = ('cuda' if torch.cuda.is_available() else 'cpu')\n",
    "NET = BiGRU(n_channels=1, n_classes=31).to(device)\n",
    "#NET = torch.load('pretrainbcg_f8.pt')\n",
    "#NET.outc = OutConv(8, 31)\n",
    "NET = NET.to(device)\n",
    "optimizer = torch.optim.Adam(NET.parameters(), lr=5e-4)\n",
    "optimizer.zero_grad()\n",
    "maxlen = data['ECG'].size\n",
    "\n",
    "loss_list = []\n",
    "count = 0\n",
    "ecg = norm_ecg(data['ECG'])\n",
    "for ii in range(5000):\n",
    "    if ii % 10 == 0:\n",
    "        sys.stdout.write('.')\n",
    "    index = random.randrange(maxlen-20000)\n",
    "    ECG = ecg[index:(index+20000):10]\n",
    "    EEG = eeg_filtered[:, index:(index+20000):10]\n",
    "    ECG_d = torch.from_numpy(ECG[None, ...][None, ...]).to(device).float().permute(2,0,1)\n",
    "    EEG_d = torch.from_numpy(EEG[None, ...]).to(device).float().permute(2,0,1)\n",
    "\n",
    "    # step 3: forward path of UNET\n",
    "    logits = NET(ECG_d)\n",
    "    loss = nn.MSELoss()(logits, EEG_d)\n",
    "    loss_list.append(loss.item())\n",
    "\n",
    "\n",
    "    # Step 5: Perform back-propagation\n",
    "    loss.backward() #accumulate the gradients\n",
    "    optimizer.step() #Update network weights according to the optimizer\n",
    "    optimizer.zero_grad() #empty the gradients\n",
    "\n",
    "\n",
    "    if (ii + 1) % 500 == 0: #plot results per 500 iterations\n",
    "        print('mse loss: ', np.mean(loss_list))\n",
    "        loss_list = []\n",
    "        EEG = eeg_filtered[:, :50000]\n",
    "        ECG = data['ECG'][:50000]\n",
    "        ECG_d = torch.from_numpy(ECG[None, ...][None, ...]).to(device).float().permute(2,0,1)\n",
    "        EEG_d = torch.from_numpy(EEG[None, ...]).to(device).float().permute(2,0,1)\n",
    "        logits = NET(ECG_d)        \n",
    "        EEG_pred = logits.cpu().detach().numpy().reshape(31,-1)\n",
    "        plt.figure(figsize=(12, 6), dpi=300)\n",
    "\n",
    "        plt.plot(EEG[0, ...], 'g')\n",
    "        plt.plot(EEG[0, ...] - EEG_pred[0, 0, ...], 'r')\n",
    "        time1 = round(time.time() - t, 1)\n",
    "        plt.title(f' {time1} seconds')\n",
    "        plt.show()\n",
    "\n",
    "\n",
    "# remove BCG from the whole dataset\n",
    "EEG = eeg_filtered\n",
    "ECG = data['ECG']\n",
    "ECG_d = torch.from_numpy(ECG[None, ...][None, ...]).to(device).float().permute(2,0,1)\n",
    "EEG_d = torch.from_numpy(EEG[None, ...]).to(device).float().permute(2,0,1)\n",
    "logits = NET(ECG_d)\n",
    "BCG_pred = logits.cpu().detach().numpy()[0, ...].reshape(31,-1)\n",
    "EEG_removeBCG_unet = eeg_filtered - BCG_pred\n",
    "\n"
   ]
  }
 ],
 "metadata": {
  "kernelspec": {
   "display_name": "Python 3 (ipykernel)",
   "language": "python",
   "name": "python3"
  },
  "language_info": {
   "codemirror_mode": {
    "name": "ipython",
    "version": 3
   },
   "file_extension": ".py",
   "mimetype": "text/x-python",
   "name": "python",
   "nbconvert_exporter": "python",
   "pygments_lexer": "ipython3",
   "version": "3.10.0"
  }
 },
 "nbformat": 4,
 "nbformat_minor": 5
}
