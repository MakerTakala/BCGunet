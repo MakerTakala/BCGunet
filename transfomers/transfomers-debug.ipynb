{
 "cells": [
  {
   "cell_type": "markdown",
   "id": "62e7e36e",
   "metadata": {},
   "source": [
    "Requirements: Pytorch, mat73, numpy\n",
    "\n",
    "```pip install mat73```\n",
    "\n",
    "相關論文： https://ieeexplore.ieee.org/document/9124646"
   ]
  },
  {
   "cell_type": "code",
   "execution_count": 13,
   "id": "2962af4f",
   "metadata": {},
   "outputs": [],
   "source": [
    "from os.path import *\n",
    "import numpy as np\n",
    "import random\n",
    "import torch\n",
    "import torch.nn as nn\n",
    "import time\n",
    "import sys\n",
    "import mat73\n",
    "import matplotlib.pyplot as plt"
   ]
  },
  {
   "cell_type": "code",
   "execution_count": 14,
   "id": "1f21a6a9",
   "metadata": {},
   "outputs": [],
   "source": [
    "from scipy.signal import butter, sosfilt, sosfreqz\n",
    "\n",
    "def butter_bandpass(lowcut, highcut, fs, order=5):\n",
    "        nyq = 0.5 * fs\n",
    "        low = lowcut / nyq\n",
    "        high = highcut / nyq\n",
    "        sos = butter(order, [low, high], analog=False, btype='band', output='sos')\n",
    "        return sos\n",
    "\n",
    "def butter_bandpass_filter(data, lowcut, highcut, fs, order=5):\n",
    "        sos = butter_bandpass(lowcut, highcut, fs, order=order)\n",
    "        y = sosfilt(sos, data)\n",
    "        return y\n",
    "\n",
    "def norm_ecg(ecg):\n",
    "    min1, max1 = np.percentile(ecg, [1, 99])\n",
    "    ecg[ecg>max1] = max1\n",
    "    ecg[ecg<min1] = min1\n",
    "    ecg = (ecg - min1)/(max1-min1)\n",
    "    return ecg"
   ]
  },
  {
   "cell_type": "code",
   "execution_count": 15,
   "id": "71b4e84a",
   "metadata": {},
   "outputs": [
    {
     "name": "stdout",
     "output_type": "stream",
     "text": [
      "."
     ]
    }
   ],
   "source": [
    "f = r'../data/noscan/170327_PYL/analysis/eyeclose_noscan.mat'\n",
    "\n",
    "data = mat73.loadmat(f)\n",
    "eeg_filtered = data['EEG_before_bcg'] * 0\n",
    "t = time.time()\n",
    "for ii in range(31):\n",
    "    eeg_filtered[ii, ...] = butter_bandpass_filter(data['EEG_before_bcg'][ii,:], 1, 40, 5000)\n",
    "\n",
    "torch.cuda.empty_cache()\n",
    "device = ('cuda' if torch.cuda.is_available() else 'cpu')\n",
    "NET = nn.Transformer(d_model=31, nhead=31).to(device)\n",
    "#NET = torch.load('pretrainbcg_f8.pt')\n",
    "#NET.outc = OutConv(8, 31)\n",
    "NET = NET.to(device)\n",
    "optimizer = torch.optim.Adam(NET.parameters(), lr=5e-4)\n",
    "optimizer.zero_grad()\n",
    "maxlen = data['ECG'].size\n",
    "\n",
    "loss_list = []\n",
    "count = 0\n",
    "ecg = norm_ecg(data['ECG'])\n",
    "for ii in range(5000):\n",
    "    if ii % 10 == 0:\n",
    "        sys.stdout.write('.')\n",
    "    index = random.randrange(maxlen-20000)\n",
    "\n",
    "    ECG = np.repeat(np.expand_dims(ecg[index:(index + 20000):10], axis=0), 31, axis=0)\n",
    "    EEG = eeg_filtered[:, index:(index + 20000):10]\n",
    "    ECG_d = torch.from_numpy(ECG[None, ...]).to(device).float().permute(0,2,1)\n",
    "    EEG_d = torch.from_numpy(EEG[None, ...]).to(device).float().permute(0,2,1)\n",
    "\n",
    "    # step 3: forward path of UNET\n",
    "    logits = NET(src=ECG_d, tgt=EEG_d)\n",
    "    loss = nn.MSELoss()(logits, EEG_d)\n",
    "    loss_list.append(loss.item())\n",
    "\n",
    "\n",
    "    # Step 5: Perform back-propagation\n",
    "    loss.backward() #accumulate the gradients\n",
    "    optimizer.step() #Update network weights according to the optimizer\n",
    "    optimizer.zero_grad() #empty the gradients\n",
    "\n",
    "\n",
    "    if (ii + 1) % 50 == 0: #plot results per 500 iterations\n",
    "        print('mse loss: ', np.mean(loss_list))\n",
    "        loss_list = []\n",
    "\n",
    "        ECG = np.repeat(np.expand_dims(data['ECG'][:50000], axis=0), 31, axis=0)\n",
    "        EEG = eeg_filtered[:, :50000]\n",
    "        ECG_d = torch.from_numpy(ECG[None, ...]).to(device).float().permute(2,0,1)\n",
    "        EEG_d = torch.from_numpy(EEG[None, ...]).to(device).float().permute(2,0,1)\n",
    "        logits = NET(src=ECG_d, tgt=EEG_d)\n",
    "        EEG_pred = logits.cpu().detach().numpy().reshape(31,-1)\n",
    "        plt.figure(figsize=(12, 6), dpi=300)\n",
    "\n",
    "        plt.plot(EEG[0, ...], 'g')\n",
    "        plt.plot(EEG[0, ...] - EEG_pred[0, 0, ...], 'r')\n",
    "        time1 = round(time.time() - t, 1)\n",
    "        plt.title(f' {time1} seconds')\n",
    "        plt.show()\n",
    "\n",
    "\n",
    "# remove BCG from the whole dataset\n",
    "EEG = eeg_filtered\n",
    "ECG = np.repeat(np.expand_dims(ecg, axis=0), 31, axis=0)\n",
    "ECG_d = torch.from_numpy(ECG[None, ...]).to(device).float().permute(0,2,1)\n",
    "EEG_d = torch.from_numpy(EEG[None, ...]).to(device).float().permute(0,2,1)\n",
    "\n",
    "logits = NET(src=ECG_d, tgt=EEG_d)\n",
    "BCG_pred = logits.cpu().detach().numpy()[0, ...].reshape(31,-1)\n",
    "EEG_removeBCG_unet = eeg_filtered - BCG_pred\n",
    "\n"
   ]
  }
 ],
 "metadata": {
  "kernelspec": {
   "display_name": "Python 3 (ipykernel)",
   "language": "python",
   "name": "python3"
  },
  "language_info": {
   "codemirror_mode": {
    "name": "ipython",
    "version": 3
   },
   "file_extension": ".py",
   "mimetype": "text/x-python",
   "name": "python",
   "nbconvert_exporter": "python",
   "pygments_lexer": "ipython3",
   "version": "3.10.0"
  }
 },
 "nbformat": 4,
 "nbformat_minor": 5
}
